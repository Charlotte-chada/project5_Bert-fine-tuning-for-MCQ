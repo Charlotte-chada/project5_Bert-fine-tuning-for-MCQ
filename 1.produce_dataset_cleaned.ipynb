{
  "cells": [
    {
      "cell_type": "code",
      "execution_count": null,
      "metadata": {
        "id": "Js4qGMn9EAWF"
      },
      "outputs": [],
      "source": [
        "#import\n",
        "import pandas as pd\n",
        "from pprint import pprint\n",
        "import json\n",
        "import random"
      ]
    },
    {
      "cell_type": "code",
      "execution_count": null,
      "metadata": {
        "colab": {
          "base_uri": "https://localhost:8080/"
        },
        "id": "GQ8u8fxZYLow",
        "outputId": "14d9dc15-939c-46f9-870d-363f94e2bc50"
      },
      "outputs": [
        {
          "name": "stdout",
          "output_type": "stream",
          "text": [
            "Drive already mounted at /content/drive; to attempt to forcibly remount, call drive.mount(\"/content/drive\", force_remount=True).\n"
          ]
        }
      ],
      "source": [
        "#mount to googledrive\n",
        "from google.colab import drive\n",
        "drive.mount('/content/drive')"
      ]
    },
    {
      "cell_type": "code",
      "execution_count": null,
      "metadata": {
        "id": "s2xIVISRt3Zz"
      },
      "outputs": [],
      "source": [
        "#file path\n",
        "root = '/content/drive/My Drive/Swinburne/TIP/data/'\n"
      ]
    },
    {
      "cell_type": "code",
      "execution_count": null,
      "metadata": {
        "colab": {
          "base_uri": "https://localhost:8080/"
        },
        "id": "MIdmQFB2u7Vz",
        "outputId": "ec5f993c-f191-4a96-9568-45927e4c4f06"
      },
      "outputs": [
        {
          "name": "stdout",
          "output_type": "stream",
          "text": [
            "There are 11679 items in train_SciQ.jsonl file\n"
          ]
        }
      ],
      "source": [
        "input_train_SciQ = root + 'train_SciQ.json'\n",
        "output_train_SciQ = root + 'train_SciQ.jsonl'\n",
        "\n",
        "with open(input_train_SciQ, 'r') as infile:\n",
        "    data = json.load(infile)\n",
        "\n",
        "# Write the data to the output JSONL file\n",
        "with open(output_train_SciQ, 'w') as outfile:\n",
        "    for item in data:\n",
        "        outfile.write(json.dumps(item) + '\\n')\n",
        "\n",
        "with open(output_train_SciQ, 'r') as f:\n",
        "    lines = f.readlines()\n",
        "    count = len(lines)\n",
        "\n",
        "print(f\"There are {count} items in train_SciQ.jsonl file\")\n"
      ]
    },
    {
      "cell_type": "code",
      "execution_count": null,
      "metadata": {
        "id": "vudrs5WLHT_x"
      },
      "outputs": [],
      "source": [
        "file_paths = ['ARC-Easy-Train.jsonl','common_sense_train.jsonl','dev_rand_split.jsonl','train_SciQ.jsonl']\n",
        "\n",
        "# Update file paths to include the root directory\n",
        "for i in range(len(file_paths)):\n",
        "  file_paths[i] = root + file_paths[i]\n",
        "output_file_path = root + 'cleaned_ARC_CommonSense_SciQ.jsonl' "
      ]
    },
    {
      "cell_type": "code",
      "execution_count": null,
      "metadata": {
        "id": "rkVWBb9HEbXf"
      },
      "outputs": [],
      "source": [
        "import json\n",
        "import random\n",
        "\n",
        "# DICTIONARY TEMPLATE\n",
        "# Create a template dictionary for the questions\n",
        "dic = {}\n",
        "dic['id'] = 'x'\n",
        "dic_question = {}\n",
        "dic_question['stem'] = 'xx'\n",
        "dic_choices = [0] * 4\n",
        "dic_choices[0] = {'text': 'ada', 'label': 'A'}\n",
        "dic_choices[1] = {'text': 'ada', 'label': 'B'}\n",
        "dic_choices[2] = {'text': 'ada', 'label': 'C'}\n",
        "dic_choices[3] = {'text': 'ada', 'label': 'D'}\n",
        "dic_question['choices'] = dic_choices\n",
        "dic['question'] = dic_question\n",
        "dic['answerKey'] = 'D'\n",
        "mcq = {0: \"A\", 1: \"B\", 2: \"C\", 3: \"D\", 4: \"E\", '0': 'A', '1': 'B', '2': 'C', '3': 'D', '4': \"E\"}"
      ]
    },
    {
      "cell_type": "code",
      "execution_count": null,
      "metadata": {
        "id": "lYRtVoIWIeyZ"
      },
      "outputs": [],
      "source": [
        "# OUTPUT FILE\n",
        "fout = open(output_file_path, 'wt')\n",
        "\n",
        "# PROCESSING FILES\n",
        "for file_path in file_paths:\n",
        "    with open(file_path) as json_file:\n",
        "        json_list = list(json_file)\n",
        "        for i in range(len(json_list)):\n",
        "            json_str = json_list[i].strip()  # Remove leading and trailing whitespaces\n",
        "            if not json_str:  # Skip empty lines\n",
        "                continue\n",
        "            try:\n",
        "                result = json.loads(json_str)\n",
        "            except json.JSONDecodeError:\n",
        "                print(f\"Error decoding JSON on line {i+1} in file {file_path}: {json_str}\")\n",
        "                continue\n",
        "\n",
        "            if 'distractor1' in result:\n",
        "                # Convert the new format to the expected format\n",
        "                converted_result = {\n",
        "                    'question': {\n",
        "                        'stem': result['question'],\n",
        "                        'choices': [\n",
        "                            {'text': result['distractor1'], 'label': 'A'},\n",
        "                            {'text': result['distractor2'], 'label': 'B'},\n",
        "                            {'text': result['distractor3'], 'label': 'C'},\n",
        "                            {'text': result['correct_answer'], 'label': 'D'}\n",
        "                        ]\n",
        "                    },\n",
        "                    'answerKey': 'D'\n",
        "                }\n",
        "                result = converted_result\n",
        "\n",
        "            # Check if 'question' is a dictionary and if 'choices' key exists\n",
        "            if isinstance(result['question'], dict) and 'choices' in result['question'] and len(result['question']['choices']) < 4:\n",
        "                continue\n",
        "\n",
        "            # Populate the template dictionary with data from the current question\n",
        "            dic['question'] = result['question']\n",
        "            dic['question']['choices'][0]['text'] = result['question']['choices'][0]['text']\n",
        "            dic['question']['choices'][1]['text'] = result['question']['choices'][1]['text']\n",
        "            dic['question']['choices'][2]['text'] = result['question']['choices'][2]['text']\n",
        "            dic['question']['choices'][3]['text'] = result['question']['choices'][3]['text']\n",
        "            dic['answerKey'] = result['answerKey']\n",
        "\n",
        "            # Remap answer keys if they are in numeric format\n",
        "            if dic['answerKey'] not in ('A', 'B', 'C', 'D', 'E'):\n",
        "                dic['answerKey'] = mcq.get(dic['answerKey'], dic['answerKey'])\n",
        "\n",
        "            # Handle questions with answer key 'E'\n",
        "            if dic['answerKey'] == 'E' and len(result['question']['choices']) > 4:\n",
        "                new_answer_choice = random.randint(0, 3)\n",
        "                dic['question']['choices'][new_answer_choice]['text'] = result['question']['choices'][4]['text']\n",
        "                dic['answerKey'] = mcq[new_answer_choice]\n",
        "\n",
        "            # Write the modified dictionary to the output file\n",
        "            fout.write('%s\\n' % json.dumps(dic))\n",
        "\n",
        "fout.close()"
      ]
    },
    {
      "cell_type": "code",
      "execution_count": null,
      "metadata": {
        "colab": {
          "base_uri": "https://localhost:8080/"
        },
        "id": "fuYdYwu2vf2j",
        "outputId": "a67cd3f9-056b-441f-9dba-a5ca21d85c44"
      },
      "outputs": [
        {
          "name": "stdout",
          "output_type": "stream",
          "text": [
            "{'stem': 'What do you call a structure composed of two or more types of tissues that work together to do a specific task?', 'choices': [{'text': 'cell', 'label': 'A'}, {'text': 'marrow', 'label': 'B'}, {'text': 'system', 'label': 'C'}, {'text': 'organ', 'label': 'D'}]}\n"
          ]
        }
      ],
      "source": [
        "print(result['question'])"
      ]
    },
    {
      "cell_type": "code",
      "execution_count": null,
      "metadata": {
        "colab": {
          "base_uri": "https://localhost:8080/"
        },
        "id": "pGF6gLzv1r0W",
        "outputId": "d29c653d-524a-43a7-d216-6b4b5bbae9dd"
      },
      "outputs": [
        {
          "name": "stdout",
          "output_type": "stream",
          "text": [
            "There are 16366 items in the final file.\n"
          ]
        }
      ],
      "source": [
        "with open(output_file_path, 'r') as f:\n",
        "    lines = f.readlines()\n",
        "    count = len(lines)\n",
        "\n",
        "print(f\"There are {count} items in the final file.\")\n"
      ]
    },
    {
      "cell_type": "code",
      "execution_count": null,
      "metadata": {
        "colab": {
          "base_uri": "https://localhost:8080/"
        },
        "id": "JXIK_4KQ3y1d",
        "outputId": "95d16555-4352-42ae-b6d5-2ec2f582d32e"
      },
      "outputs": [
        {
          "name": "stdout",
          "output_type": "stream",
          "text": [
            "There are 16366 lines in cleaned_ARC_CommonSense_SciQ.jsonl.\n"
          ]
        }
      ],
      "source": [
        "with open(output_file_path, 'r') as f:\n",
        "    lines = f.readlines()\n",
        "    count = len(lines)\n",
        "\n",
        "print(f\"There are {count} lines in cleaned_ARC_CommonSense_SciQ.jsonl.\")\n"
      ]
    }
  ],
  "metadata": {
    "colab": {
      "provenance": []
    },
    "kernelspec": {
      "display_name": "Python 3",
      "name": "python3"
    },
    "language_info": {
      "name": "python"
    }
  },
  "nbformat": 4,
  "nbformat_minor": 0
}
